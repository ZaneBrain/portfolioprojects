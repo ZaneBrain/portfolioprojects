{
  "nbformat": 4,
  "nbformat_minor": 0,
  "metadata": {
    "colab": {
      "provenance": [],
      "authorship_tag": "ABX9TyOVAMnrF+qo1DGZFxSxC2Md",
      "include_colab_link": true
    },
    "kernelspec": {
      "name": "python3",
      "display_name": "Python 3"
    },
    "language_info": {
      "name": "python"
    }
  },
  "cells": [
    {
      "cell_type": "markdown",
      "metadata": {
        "id": "view-in-github",
        "colab_type": "text"
      },
      "source": [
        "<a href=\"https://colab.research.google.com/github/ZaneBrain/portfolioprojects/blob/main/Diamonds.ipynb\" target=\"_parent\"><img src=\"https://colab.research.google.com/assets/colab-badge.svg\" alt=\"Open In Colab\"/></a>"
      ]
    },
    {
      "cell_type": "markdown",
      "source": [
        "## Machine Learning Exercise\n",
        "\n",
        "This is an attempt to create a neural network that predicts the price of a diamond based on features such as carat, cut, color, clarity, depth, table, price, and individual length dimensions.\n",
        "\n",
        "The data used in this exercise is available on Kaggle at the following link: [Diamond Prices](https://www.kaggle.com/datasets/nancyalaswad90/diamonds-prices) (License: CC-BY-NC-SA 4.0)"
      ],
      "metadata": {
        "id": "G_k5QOVpvBWR"
      }
    },
    {
      "cell_type": "markdown",
      "source": [
        "# Importing Common Data Analytics Libraries and Loading the Data"
      ],
      "metadata": {
        "id": "y0nWas5TvCMh"
      }
    },
    {
      "cell_type": "code",
      "execution_count": 2,
      "metadata": {
        "id": "OTLRH3rMV2Fz"
      },
      "outputs": [],
      "source": [
        "# Importing Libraries\n",
        "import pandas as pd\n",
        "import numpy as np\n",
        "import matplotlib.pyplot as plt\n",
        "import seaborn as sns\n",
        "\n",
        "%matplotlib inline"
      ]
    },
    {
      "cell_type": "code",
      "source": [
        "# Changing Drive\n",
        "from google.colab import drive\n",
        "drive.mount('/content/gdrive')"
      ],
      "metadata": {
        "colab": {
          "base_uri": "https://localhost:8080/"
        },
        "id": "XcEAsUXFZNPa",
        "outputId": "8c50cd13-5f2c-4e45-9e00-2edf44df65b5"
      },
      "execution_count": 3,
      "outputs": [
        {
          "output_type": "stream",
          "name": "stdout",
          "text": [
            "Drive already mounted at /content/gdrive; to attempt to forcibly remount, call drive.mount(\"/content/gdrive\", force_remount=True).\n"
          ]
        }
      ]
    },
    {
      "cell_type": "code",
      "source": [
        "df = pd.read_csv('gdrive/MyDrive/Sample_Datasets/Diamonds_Prices2022.csv')"
      ],
      "metadata": {
        "id": "0lvPp1d3ZOkT"
      },
      "execution_count": 51,
      "outputs": []
    },
    {
      "cell_type": "markdown",
      "source": [
        "# Data Exploration and Feature Engineering"
      ],
      "metadata": {
        "id": "rhDMBA8CwYDf"
      }
    },
    {
      "cell_type": "code",
      "source": [
        "print(df.columns) #Get all of the columns\n",
        "print('\\n')\n",
        "print(len(df)) #Get the size of the data set\n",
        "print('\\n')\n",
        "print(df.select_dtypes(['object']).columns) #Identify non-numeric columns"
      ],
      "metadata": {
        "colab": {
          "base_uri": "https://localhost:8080/"
        },
        "id": "qLJ6iwrQZXoY",
        "outputId": "75a9a79e-6b95-448e-cb40-dc4e5da60632"
      },
      "execution_count": 52,
      "outputs": [
        {
          "output_type": "stream",
          "name": "stdout",
          "text": [
            "Index(['Unnamed: 0', 'carat', 'cut', 'color', 'clarity', 'depth', 'table',\n",
            "       'price', 'x', 'y', 'z'],\n",
            "      dtype='object')\n",
            "\n",
            "\n",
            "53943\n",
            "\n",
            "\n",
            "Index(['cut', 'color', 'clarity'], dtype='object')\n"
          ]
        }
      ]
    },
    {
      "cell_type": "code",
      "source": [
        "#Checking out the head of the data. The first column appears to be indexing values\n",
        "df.head()"
      ],
      "metadata": {
        "colab": {
          "base_uri": "https://localhost:8080/",
          "height": 206
        },
        "id": "jjqaP1mpZcLF",
        "outputId": "f540cb4e-6d65-4c88-fabe-9ede969cc5e9"
      },
      "execution_count": 6,
      "outputs": [
        {
          "output_type": "execute_result",
          "data": {
            "text/plain": [
              "   Unnamed: 0  carat      cut color clarity  depth  table  price     x     y  \\\n",
              "0           1   0.23    Ideal     E     SI2   61.5   55.0    326  3.95  3.98   \n",
              "1           2   0.21  Premium     E     SI1   59.8   61.0    326  3.89  3.84   \n",
              "2           3   0.23     Good     E     VS1   56.9   65.0    327  4.05  4.07   \n",
              "3           4   0.29  Premium     I     VS2   62.4   58.0    334  4.20  4.23   \n",
              "4           5   0.31     Good     J     SI2   63.3   58.0    335  4.34  4.35   \n",
              "\n",
              "      z  \n",
              "0  2.43  \n",
              "1  2.31  \n",
              "2  2.31  \n",
              "3  2.63  \n",
              "4  2.75  "
            ],
            "text/html": [
              "\n",
              "  <div id=\"df-17eee462-3377-4789-afbf-29770c9aa920\">\n",
              "    <div class=\"colab-df-container\">\n",
              "      <div>\n",
              "<style scoped>\n",
              "    .dataframe tbody tr th:only-of-type {\n",
              "        vertical-align: middle;\n",
              "    }\n",
              "\n",
              "    .dataframe tbody tr th {\n",
              "        vertical-align: top;\n",
              "    }\n",
              "\n",
              "    .dataframe thead th {\n",
              "        text-align: right;\n",
              "    }\n",
              "</style>\n",
              "<table border=\"1\" class=\"dataframe\">\n",
              "  <thead>\n",
              "    <tr style=\"text-align: right;\">\n",
              "      <th></th>\n",
              "      <th>Unnamed: 0</th>\n",
              "      <th>carat</th>\n",
              "      <th>cut</th>\n",
              "      <th>color</th>\n",
              "      <th>clarity</th>\n",
              "      <th>depth</th>\n",
              "      <th>table</th>\n",
              "      <th>price</th>\n",
              "      <th>x</th>\n",
              "      <th>y</th>\n",
              "      <th>z</th>\n",
              "    </tr>\n",
              "  </thead>\n",
              "  <tbody>\n",
              "    <tr>\n",
              "      <th>0</th>\n",
              "      <td>1</td>\n",
              "      <td>0.23</td>\n",
              "      <td>Ideal</td>\n",
              "      <td>E</td>\n",
              "      <td>SI2</td>\n",
              "      <td>61.5</td>\n",
              "      <td>55.0</td>\n",
              "      <td>326</td>\n",
              "      <td>3.95</td>\n",
              "      <td>3.98</td>\n",
              "      <td>2.43</td>\n",
              "    </tr>\n",
              "    <tr>\n",
              "      <th>1</th>\n",
              "      <td>2</td>\n",
              "      <td>0.21</td>\n",
              "      <td>Premium</td>\n",
              "      <td>E</td>\n",
              "      <td>SI1</td>\n",
              "      <td>59.8</td>\n",
              "      <td>61.0</td>\n",
              "      <td>326</td>\n",
              "      <td>3.89</td>\n",
              "      <td>3.84</td>\n",
              "      <td>2.31</td>\n",
              "    </tr>\n",
              "    <tr>\n",
              "      <th>2</th>\n",
              "      <td>3</td>\n",
              "      <td>0.23</td>\n",
              "      <td>Good</td>\n",
              "      <td>E</td>\n",
              "      <td>VS1</td>\n",
              "      <td>56.9</td>\n",
              "      <td>65.0</td>\n",
              "      <td>327</td>\n",
              "      <td>4.05</td>\n",
              "      <td>4.07</td>\n",
              "      <td>2.31</td>\n",
              "    </tr>\n",
              "    <tr>\n",
              "      <th>3</th>\n",
              "      <td>4</td>\n",
              "      <td>0.29</td>\n",
              "      <td>Premium</td>\n",
              "      <td>I</td>\n",
              "      <td>VS2</td>\n",
              "      <td>62.4</td>\n",
              "      <td>58.0</td>\n",
              "      <td>334</td>\n",
              "      <td>4.20</td>\n",
              "      <td>4.23</td>\n",
              "      <td>2.63</td>\n",
              "    </tr>\n",
              "    <tr>\n",
              "      <th>4</th>\n",
              "      <td>5</td>\n",
              "      <td>0.31</td>\n",
              "      <td>Good</td>\n",
              "      <td>J</td>\n",
              "      <td>SI2</td>\n",
              "      <td>63.3</td>\n",
              "      <td>58.0</td>\n",
              "      <td>335</td>\n",
              "      <td>4.34</td>\n",
              "      <td>4.35</td>\n",
              "      <td>2.75</td>\n",
              "    </tr>\n",
              "  </tbody>\n",
              "</table>\n",
              "</div>\n",
              "      <button class=\"colab-df-convert\" onclick=\"convertToInteractive('df-17eee462-3377-4789-afbf-29770c9aa920')\"\n",
              "              title=\"Convert this dataframe to an interactive table.\"\n",
              "              style=\"display:none;\">\n",
              "        \n",
              "  <svg xmlns=\"http://www.w3.org/2000/svg\" height=\"24px\"viewBox=\"0 0 24 24\"\n",
              "       width=\"24px\">\n",
              "    <path d=\"M0 0h24v24H0V0z\" fill=\"none\"/>\n",
              "    <path d=\"M18.56 5.44l.94 2.06.94-2.06 2.06-.94-2.06-.94-.94-2.06-.94 2.06-2.06.94zm-11 1L8.5 8.5l.94-2.06 2.06-.94-2.06-.94L8.5 2.5l-.94 2.06-2.06.94zm10 10l.94 2.06.94-2.06 2.06-.94-2.06-.94-.94-2.06-.94 2.06-2.06.94z\"/><path d=\"M17.41 7.96l-1.37-1.37c-.4-.4-.92-.59-1.43-.59-.52 0-1.04.2-1.43.59L10.3 9.45l-7.72 7.72c-.78.78-.78 2.05 0 2.83L4 21.41c.39.39.9.59 1.41.59.51 0 1.02-.2 1.41-.59l7.78-7.78 2.81-2.81c.8-.78.8-2.07 0-2.86zM5.41 20L4 18.59l7.72-7.72 1.47 1.35L5.41 20z\"/>\n",
              "  </svg>\n",
              "      </button>\n",
              "      \n",
              "  <style>\n",
              "    .colab-df-container {\n",
              "      display:flex;\n",
              "      flex-wrap:wrap;\n",
              "      gap: 12px;\n",
              "    }\n",
              "\n",
              "    .colab-df-convert {\n",
              "      background-color: #E8F0FE;\n",
              "      border: none;\n",
              "      border-radius: 50%;\n",
              "      cursor: pointer;\n",
              "      display: none;\n",
              "      fill: #1967D2;\n",
              "      height: 32px;\n",
              "      padding: 0 0 0 0;\n",
              "      width: 32px;\n",
              "    }\n",
              "\n",
              "    .colab-df-convert:hover {\n",
              "      background-color: #E2EBFA;\n",
              "      box-shadow: 0px 1px 2px rgba(60, 64, 67, 0.3), 0px 1px 3px 1px rgba(60, 64, 67, 0.15);\n",
              "      fill: #174EA6;\n",
              "    }\n",
              "\n",
              "    [theme=dark] .colab-df-convert {\n",
              "      background-color: #3B4455;\n",
              "      fill: #D2E3FC;\n",
              "    }\n",
              "\n",
              "    [theme=dark] .colab-df-convert:hover {\n",
              "      background-color: #434B5C;\n",
              "      box-shadow: 0px 1px 3px 1px rgba(0, 0, 0, 0.15);\n",
              "      filter: drop-shadow(0px 1px 2px rgba(0, 0, 0, 0.3));\n",
              "      fill: #FFFFFF;\n",
              "    }\n",
              "  </style>\n",
              "\n",
              "      <script>\n",
              "        const buttonEl =\n",
              "          document.querySelector('#df-17eee462-3377-4789-afbf-29770c9aa920 button.colab-df-convert');\n",
              "        buttonEl.style.display =\n",
              "          google.colab.kernel.accessAllowed ? 'block' : 'none';\n",
              "\n",
              "        async function convertToInteractive(key) {\n",
              "          const element = document.querySelector('#df-17eee462-3377-4789-afbf-29770c9aa920');\n",
              "          const dataTable =\n",
              "            await google.colab.kernel.invokeFunction('convertToInteractive',\n",
              "                                                     [key], {});\n",
              "          if (!dataTable) return;\n",
              "\n",
              "          const docLinkHtml = 'Like what you see? Visit the ' +\n",
              "            '<a target=\"_blank\" href=https://colab.research.google.com/notebooks/data_table.ipynb>data table notebook</a>'\n",
              "            + ' to learn more about interactive tables.';\n",
              "          element.innerHTML = '';\n",
              "          dataTable['output_type'] = 'display_data';\n",
              "          await google.colab.output.renderOutput(dataTable, element);\n",
              "          const docLink = document.createElement('div');\n",
              "          docLink.innerHTML = docLinkHtml;\n",
              "          element.appendChild(docLink);\n",
              "        }\n",
              "      </script>\n",
              "    </div>\n",
              "  </div>\n",
              "  "
            ]
          },
          "metadata": {},
          "execution_count": 6
        }
      ]
    },
    {
      "cell_type": "code",
      "source": [
        "#Removing the index column for latter exploration\n",
        "df = df.drop('Unnamed: 0', axis=1)"
      ],
      "metadata": {
        "id": "wq9EwqfTzpu3"
      },
      "execution_count": 62,
      "outputs": []
    },
    {
      "cell_type": "code",
      "source": [
        "df.describe().transpose()"
      ],
      "metadata": {
        "colab": {
          "base_uri": "https://localhost:8080/",
          "height": 300
        },
        "id": "p6GVLojfZloQ",
        "outputId": "cef50f44-0454-4441-b3b8-30eadcf4712f"
      },
      "execution_count": 7,
      "outputs": [
        {
          "output_type": "execute_result",
          "data": {
            "text/plain": [
              "              count          mean           std    min       25%       50%  \\\n",
              "Unnamed: 0  53943.0  26972.000000  15572.147122    1.0  13486.50  26972.00   \n",
              "carat       53943.0      0.797935      0.473999    0.2      0.40      0.70   \n",
              "depth       53943.0     61.749322      1.432626   43.0     61.00     61.80   \n",
              "table       53943.0     57.457251      2.234549   43.0     56.00     57.00   \n",
              "price       53943.0   3932.734294   3989.338447  326.0    950.00   2401.00   \n",
              "x           53943.0      5.731158      1.121730    0.0      4.71      5.70   \n",
              "y           53943.0      5.734526      1.142103    0.0      4.72      5.71   \n",
              "z           53943.0      3.538730      0.705679    0.0      2.91      3.53   \n",
              "\n",
              "                 75%       max  \n",
              "Unnamed: 0  40457.50  53943.00  \n",
              "carat           1.04      5.01  \n",
              "depth          62.50     79.00  \n",
              "table          59.00     95.00  \n",
              "price        5324.00  18823.00  \n",
              "x               6.54     10.74  \n",
              "y               6.54     58.90  \n",
              "z               4.04     31.80  "
            ],
            "text/html": [
              "\n",
              "  <div id=\"df-5f840b4b-d65e-409f-ace5-3c263f346033\">\n",
              "    <div class=\"colab-df-container\">\n",
              "      <div>\n",
              "<style scoped>\n",
              "    .dataframe tbody tr th:only-of-type {\n",
              "        vertical-align: middle;\n",
              "    }\n",
              "\n",
              "    .dataframe tbody tr th {\n",
              "        vertical-align: top;\n",
              "    }\n",
              "\n",
              "    .dataframe thead th {\n",
              "        text-align: right;\n",
              "    }\n",
              "</style>\n",
              "<table border=\"1\" class=\"dataframe\">\n",
              "  <thead>\n",
              "    <tr style=\"text-align: right;\">\n",
              "      <th></th>\n",
              "      <th>count</th>\n",
              "      <th>mean</th>\n",
              "      <th>std</th>\n",
              "      <th>min</th>\n",
              "      <th>25%</th>\n",
              "      <th>50%</th>\n",
              "      <th>75%</th>\n",
              "      <th>max</th>\n",
              "    </tr>\n",
              "  </thead>\n",
              "  <tbody>\n",
              "    <tr>\n",
              "      <th>Unnamed: 0</th>\n",
              "      <td>53943.0</td>\n",
              "      <td>26972.000000</td>\n",
              "      <td>15572.147122</td>\n",
              "      <td>1.0</td>\n",
              "      <td>13486.50</td>\n",
              "      <td>26972.00</td>\n",
              "      <td>40457.50</td>\n",
              "      <td>53943.00</td>\n",
              "    </tr>\n",
              "    <tr>\n",
              "      <th>carat</th>\n",
              "      <td>53943.0</td>\n",
              "      <td>0.797935</td>\n",
              "      <td>0.473999</td>\n",
              "      <td>0.2</td>\n",
              "      <td>0.40</td>\n",
              "      <td>0.70</td>\n",
              "      <td>1.04</td>\n",
              "      <td>5.01</td>\n",
              "    </tr>\n",
              "    <tr>\n",
              "      <th>depth</th>\n",
              "      <td>53943.0</td>\n",
              "      <td>61.749322</td>\n",
              "      <td>1.432626</td>\n",
              "      <td>43.0</td>\n",
              "      <td>61.00</td>\n",
              "      <td>61.80</td>\n",
              "      <td>62.50</td>\n",
              "      <td>79.00</td>\n",
              "    </tr>\n",
              "    <tr>\n",
              "      <th>table</th>\n",
              "      <td>53943.0</td>\n",
              "      <td>57.457251</td>\n",
              "      <td>2.234549</td>\n",
              "      <td>43.0</td>\n",
              "      <td>56.00</td>\n",
              "      <td>57.00</td>\n",
              "      <td>59.00</td>\n",
              "      <td>95.00</td>\n",
              "    </tr>\n",
              "    <tr>\n",
              "      <th>price</th>\n",
              "      <td>53943.0</td>\n",
              "      <td>3932.734294</td>\n",
              "      <td>3989.338447</td>\n",
              "      <td>326.0</td>\n",
              "      <td>950.00</td>\n",
              "      <td>2401.00</td>\n",
              "      <td>5324.00</td>\n",
              "      <td>18823.00</td>\n",
              "    </tr>\n",
              "    <tr>\n",
              "      <th>x</th>\n",
              "      <td>53943.0</td>\n",
              "      <td>5.731158</td>\n",
              "      <td>1.121730</td>\n",
              "      <td>0.0</td>\n",
              "      <td>4.71</td>\n",
              "      <td>5.70</td>\n",
              "      <td>6.54</td>\n",
              "      <td>10.74</td>\n",
              "    </tr>\n",
              "    <tr>\n",
              "      <th>y</th>\n",
              "      <td>53943.0</td>\n",
              "      <td>5.734526</td>\n",
              "      <td>1.142103</td>\n",
              "      <td>0.0</td>\n",
              "      <td>4.72</td>\n",
              "      <td>5.71</td>\n",
              "      <td>6.54</td>\n",
              "      <td>58.90</td>\n",
              "    </tr>\n",
              "    <tr>\n",
              "      <th>z</th>\n",
              "      <td>53943.0</td>\n",
              "      <td>3.538730</td>\n",
              "      <td>0.705679</td>\n",
              "      <td>0.0</td>\n",
              "      <td>2.91</td>\n",
              "      <td>3.53</td>\n",
              "      <td>4.04</td>\n",
              "      <td>31.80</td>\n",
              "    </tr>\n",
              "  </tbody>\n",
              "</table>\n",
              "</div>\n",
              "      <button class=\"colab-df-convert\" onclick=\"convertToInteractive('df-5f840b4b-d65e-409f-ace5-3c263f346033')\"\n",
              "              title=\"Convert this dataframe to an interactive table.\"\n",
              "              style=\"display:none;\">\n",
              "        \n",
              "  <svg xmlns=\"http://www.w3.org/2000/svg\" height=\"24px\"viewBox=\"0 0 24 24\"\n",
              "       width=\"24px\">\n",
              "    <path d=\"M0 0h24v24H0V0z\" fill=\"none\"/>\n",
              "    <path d=\"M18.56 5.44l.94 2.06.94-2.06 2.06-.94-2.06-.94-.94-2.06-.94 2.06-2.06.94zm-11 1L8.5 8.5l.94-2.06 2.06-.94-2.06-.94L8.5 2.5l-.94 2.06-2.06.94zm10 10l.94 2.06.94-2.06 2.06-.94-2.06-.94-.94-2.06-.94 2.06-2.06.94z\"/><path d=\"M17.41 7.96l-1.37-1.37c-.4-.4-.92-.59-1.43-.59-.52 0-1.04.2-1.43.59L10.3 9.45l-7.72 7.72c-.78.78-.78 2.05 0 2.83L4 21.41c.39.39.9.59 1.41.59.51 0 1.02-.2 1.41-.59l7.78-7.78 2.81-2.81c.8-.78.8-2.07 0-2.86zM5.41 20L4 18.59l7.72-7.72 1.47 1.35L5.41 20z\"/>\n",
              "  </svg>\n",
              "      </button>\n",
              "      \n",
              "  <style>\n",
              "    .colab-df-container {\n",
              "      display:flex;\n",
              "      flex-wrap:wrap;\n",
              "      gap: 12px;\n",
              "    }\n",
              "\n",
              "    .colab-df-convert {\n",
              "      background-color: #E8F0FE;\n",
              "      border: none;\n",
              "      border-radius: 50%;\n",
              "      cursor: pointer;\n",
              "      display: none;\n",
              "      fill: #1967D2;\n",
              "      height: 32px;\n",
              "      padding: 0 0 0 0;\n",
              "      width: 32px;\n",
              "    }\n",
              "\n",
              "    .colab-df-convert:hover {\n",
              "      background-color: #E2EBFA;\n",
              "      box-shadow: 0px 1px 2px rgba(60, 64, 67, 0.3), 0px 1px 3px 1px rgba(60, 64, 67, 0.15);\n",
              "      fill: #174EA6;\n",
              "    }\n",
              "\n",
              "    [theme=dark] .colab-df-convert {\n",
              "      background-color: #3B4455;\n",
              "      fill: #D2E3FC;\n",
              "    }\n",
              "\n",
              "    [theme=dark] .colab-df-convert:hover {\n",
              "      background-color: #434B5C;\n",
              "      box-shadow: 0px 1px 3px 1px rgba(0, 0, 0, 0.15);\n",
              "      filter: drop-shadow(0px 1px 2px rgba(0, 0, 0, 0.3));\n",
              "      fill: #FFFFFF;\n",
              "    }\n",
              "  </style>\n",
              "\n",
              "      <script>\n",
              "        const buttonEl =\n",
              "          document.querySelector('#df-5f840b4b-d65e-409f-ace5-3c263f346033 button.colab-df-convert');\n",
              "        buttonEl.style.display =\n",
              "          google.colab.kernel.accessAllowed ? 'block' : 'none';\n",
              "\n",
              "        async function convertToInteractive(key) {\n",
              "          const element = document.querySelector('#df-5f840b4b-d65e-409f-ace5-3c263f346033');\n",
              "          const dataTable =\n",
              "            await google.colab.kernel.invokeFunction('convertToInteractive',\n",
              "                                                     [key], {});\n",
              "          if (!dataTable) return;\n",
              "\n",
              "          const docLinkHtml = 'Like what you see? Visit the ' +\n",
              "            '<a target=\"_blank\" href=https://colab.research.google.com/notebooks/data_table.ipynb>data table notebook</a>'\n",
              "            + ' to learn more about interactive tables.';\n",
              "          element.innerHTML = '';\n",
              "          dataTable['output_type'] = 'display_data';\n",
              "          await google.colab.output.renderOutput(dataTable, element);\n",
              "          const docLink = document.createElement('div');\n",
              "          docLink.innerHTML = docLinkHtml;\n",
              "          element.appendChild(docLink);\n",
              "        }\n",
              "      </script>\n",
              "    </div>\n",
              "  </div>\n",
              "  "
            ]
          },
          "metadata": {},
          "execution_count": 7
        }
      ]
    },
    {
      "cell_type": "code",
      "source": [
        "#Finding the range of prices for diamonds\n",
        "print(df['price'].max())\n",
        "print(df['price'].min())"
      ],
      "metadata": {
        "colab": {
          "base_uri": "https://localhost:8080/"
        },
        "id": "xiI3p1WiZ4hf",
        "outputId": "399fdd9a-57ba-4820-a40f-3939cd082b88"
      },
      "execution_count": 9,
      "outputs": [
        {
          "output_type": "stream",
          "name": "stdout",
          "text": [
            "18823\n",
            "326\n"
          ]
        }
      ]
    },
    {
      "cell_type": "code",
      "source": [
        "#Checking for nulls in the data\n",
        "df.isnull().sum()"
      ],
      "metadata": {
        "colab": {
          "base_uri": "https://localhost:8080/"
        },
        "id": "T5ft0dLKZ9Z-",
        "outputId": "1af44807-b841-4aef-b5fd-3695232e9694"
      },
      "execution_count": 10,
      "outputs": [
        {
          "output_type": "execute_result",
          "data": {
            "text/plain": [
              "Unnamed: 0    0\n",
              "carat         0\n",
              "cut           0\n",
              "color         0\n",
              "clarity       0\n",
              "depth         0\n",
              "table         0\n",
              "price         0\n",
              "x             0\n",
              "y             0\n",
              "z             0\n",
              "dtype: int64"
            ]
          },
          "metadata": {},
          "execution_count": 10
        }
      ]
    },
    {
      "cell_type": "code",
      "source": [
        "#Visualizing a count of diamonds by cut\n",
        "cut_order = ['Fair', 'Good', 'Very Good', 'Premium', 'Ideal']\n",
        "sns.countplot(x='cut',data=df, palette='magma', order=cut_order)"
      ],
      "metadata": {
        "colab": {
          "base_uri": "https://localhost:8080/",
          "height": 296
        },
        "id": "RUHHIjKfaEx3",
        "outputId": "e5c51aa6-97f2-483e-9dd3-afe4a4c04369"
      },
      "execution_count": 57,
      "outputs": [
        {
          "output_type": "execute_result",
          "data": {
            "text/plain": [
              "<matplotlib.axes._subplots.AxesSubplot at 0x7fb59643be80>"
            ]
          },
          "metadata": {},
          "execution_count": 57
        },
        {
          "output_type": "display_data",
          "data": {
            "text/plain": [
              "<Figure size 432x288 with 1 Axes>"
            ],
            "image/png": "[encoded data removed]"
          },
          "metadata": {
            "needs_background": "light"
          }
        }
      ]
    },
    {
      "cell_type": "code",
      "source": [
        "#Visualizing a count of diamonds by color\n",
        "color_order = sorted(df['color'].unique())\n",
        "sns.countplot(x='color',data=df,palette='magma', order = color_order)"
      ],
      "metadata": {
        "colab": {
          "base_uri": "https://localhost:8080/",
          "height": 296
        },
        "id": "IwYnUjw-aN8q",
        "outputId": "aa1e1782-ab23-4d62-e410-f4ffad368197"
      },
      "execution_count": 54,
      "outputs": [
        {
          "output_type": "execute_result",
          "data": {
            "text/plain": [
              "<matplotlib.axes._subplots.AxesSubplot at 0x7fb59656ba30>"
            ]
          },
          "metadata": {},
          "execution_count": 54
        },
        {
          "output_type": "display_data",
          "data": {
            "text/plain": [
              "<Figure size 432x288 with 1 Axes>"
            ],
            "image/png": "[encoded data removed]"
          },
          "metadata": {
            "needs_background": "light"
          }
        }
      ]
    },
    {
      "cell_type": "code",
      "source": [
        "clarity_order = sorted(df['clarity'].unique())\n",
        "sns.countplot(x='clarity',data=df,palette='magma', order=clarity_order)"
      ],
      "metadata": {
        "colab": {
          "base_uri": "https://localhost:8080/",
          "height": 296
        },
        "id": "89no48_ZaSYm",
        "outputId": "d0ae17ac-1749-40d6-8fb9-d8d04ae0e874"
      },
      "execution_count": 58,
      "outputs": [
        {
          "output_type": "execute_result",
          "data": {
            "text/plain": [
              "<matplotlib.axes._subplots.AxesSubplot at 0x7fb59641c160>"
            ]
          },
          "metadata": {},
          "execution_count": 58
        },
        {
          "output_type": "display_data",
          "data": {
            "text/plain": [
              "<Figure size 432x288 with 1 Axes>"
            ],
            "image/png": "[encoded data removed]"
          },
          "metadata": {
            "needs_background": "light"
          }
        }
      ]
    },
    {
      "cell_type": "code",
      "source": [
        "#Visualizing price frequency\n",
        "plt.figure(figsize=(10,8))\n",
        "sns.histplot(x='price', hue='cut',data=df)"
      ],
      "metadata": {
        "colab": {
          "base_uri": "https://localhost:8080/",
          "height": 514
        },
        "id": "kVtaEEgIaTpB",
        "outputId": "9ae0b3c8-4dfd-4812-bcc6-481e62cf2309"
      },
      "execution_count": 19,
      "outputs": [
        {
          "output_type": "execute_result",
          "data": {
            "text/plain": [
              "<matplotlib.axes._subplots.AxesSubplot at 0x7fadaa5f63d0>"
            ]
          },
          "metadata": {},
          "execution_count": 19
        },
        {
          "output_type": "display_data",
          "data": {
            "text/plain": [
              "<Figure size 720x576 with 1 Axes>"
            ],
            "image/png": "[encoded data removed]"
          },
          "metadata": {
            "needs_background": "light"
          }
        }
      ]
    },
    {
      "cell_type": "code",
      "source": [
        "#Comparing price statistics by cut\n",
        "sns.boxplot(x='cut', y='price', data=df)"
      ],
      "metadata": {
        "colab": {
          "base_uri": "https://localhost:8080/",
          "height": 296
        },
        "id": "mgePtuvAaj9i",
        "outputId": "5327dc2e-a4c6-4f46-fc36-eb637e3b79a9"
      },
      "execution_count": 20,
      "outputs": [
        {
          "output_type": "execute_result",
          "data": {
            "text/plain": [
              "<matplotlib.axes._subplots.AxesSubplot at 0x7fadaa0fc700>"
            ]
          },
          "metadata": {},
          "execution_count": 20
        },
        {
          "output_type": "display_data",
          "data": {
            "text/plain": [
              "<Figure size 432x288 with 1 Axes>"
            ],
            "image/png": "[encoded data removed]"
          },
          "metadata": {
            "needs_background": "light"
          }
        }
      ]
    },
    {
      "cell_type": "code",
      "source": [
        "#Comparing price statistics by clarity\n",
        "sns.boxplot(x='clarity', y='price', data=df)"
      ],
      "metadata": {
        "colab": {
          "base_uri": "https://localhost:8080/",
          "height": 296
        },
        "id": "CzHvyY__a4ec",
        "outputId": "220b03ed-937f-488a-f6cc-4ba9b1c9805a"
      },
      "execution_count": 22,
      "outputs": [
        {
          "output_type": "execute_result",
          "data": {
            "text/plain": [
              "<matplotlib.axes._subplots.AxesSubplot at 0x7fada8b02670>"
            ]
          },
          "metadata": {},
          "execution_count": 22
        },
        {
          "output_type": "display_data",
          "data": {
            "text/plain": [
              "<Figure size 432x288 with 1 Axes>"
            ],
            "image/png": "[encoded data removed]"
          },
          "metadata": {
            "needs_background": "light"
          }
        }
      ]
    },
    {
      "cell_type": "code",
      "source": [
        "#Plotting correlation to price by features\n",
        "plt.figure(figsize=(10,5))\n",
        "df.corr()['price'].sort_values().drop('price').plot(kind='bar')"
      ],
      "metadata": {
        "colab": {
          "base_uri": "https://localhost:8080/",
          "height": 356
        },
        "id": "TIlODPPia81t",
        "outputId": "e5cb6a50-5a6d-40f9-9b3e-e61e49428b07"
      },
      "execution_count": 63,
      "outputs": [
        {
          "output_type": "execute_result",
          "data": {
            "text/plain": [
              "<matplotlib.axes._subplots.AxesSubplot at 0x7fb59e1e0b80>"
            ]
          },
          "metadata": {},
          "execution_count": 63
        },
        {
          "output_type": "display_data",
          "data": {
            "text/plain": [
              "<Figure size 720x360 with 1 Axes>"
            ],
            "image/png": "[encoded data removed]"
          },
          "metadata": {
            "needs_background": "light"
          }
        }
      ]
    },
    {
      "cell_type": "code",
      "source": [
        "#As seen earlier, there are three columns that list categories. For the model, they'll need to be converted to numeric values.\n",
        "df.select_dtypes(['object']).columns"
      ],
      "metadata": {
        "colab": {
          "base_uri": "https://localhost:8080/"
        },
        "id": "fPyLPNC_bfrn",
        "outputId": "9b8e4b9c-7991-41fd-e2b4-e32b51288898"
      },
      "execution_count": 24,
      "outputs": [
        {
          "output_type": "execute_result",
          "data": {
            "text/plain": [
              "Index(['cut', 'color', 'clarity'], dtype='object')"
            ]
          },
          "metadata": {},
          "execution_count": 24
        }
      ]
    },
    {
      "cell_type": "code",
      "source": [
        "#Converting Categorial Data to Dummies\n",
        "cut_dummies = pd.get_dummies(df['cut'],drop_first=True)\n",
        "color_dummies = pd.get_dummies(df['color'],drop_first=True)\n",
        "clarity_dummies = pd.get_dummies(df['clarity'],drop_first=True)\n"
      ],
      "metadata": {
        "id": "52hrubDgbOXj"
      },
      "execution_count": 65,
      "outputs": []
    },
    {
      "cell_type": "code",
      "source": [
        "#Add Dummy Columns to Data frame\n",
        "df = pd.concat([df, cut_dummies, color_dummies, clarity_dummies],axis=1)"
      ],
      "metadata": {
        "id": "rVBnbyAicAnm"
      },
      "execution_count": 66,
      "outputs": []
    },
    {
      "cell_type": "code",
      "source": [
        "#Verifying the new dataframe\n",
        "df.head()"
      ],
      "metadata": {
        "colab": {
          "base_uri": "https://localhost:8080/",
          "height": 236
        },
        "id": "hLtdUSK5cNsf",
        "outputId": "b72425e5-7cc7-4f2a-8b57-d48f8e934870"
      },
      "execution_count": 67,
      "outputs": [
        {
          "output_type": "execute_result",
          "data": {
            "text/plain": [
              "   carat      cut color clarity  depth  table  price     x     y     z  ...  \\\n",
              "0   0.23    Ideal     E     SI2   61.5   55.0    326  3.95  3.98  2.43  ...   \n",
              "1   0.21  Premium     E     SI1   59.8   61.0    326  3.89  3.84  2.31  ...   \n",
              "2   0.23     Good     E     VS1   56.9   65.0    327  4.05  4.07  2.31  ...   \n",
              "3   0.29  Premium     I     VS2   62.4   58.0    334  4.20  4.23  2.63  ...   \n",
              "4   0.31     Good     J     SI2   63.3   58.0    335  4.34  4.35  2.75  ...   \n",
              "\n",
              "   H  I  J  IF  SI1  SI2  VS1  VS2  VVS1  VVS2  \n",
              "0  0  0  0   0    0    1    0    0     0     0  \n",
              "1  0  0  0   0    1    0    0    0     0     0  \n",
              "2  0  0  0   0    0    0    1    0     0     0  \n",
              "3  0  1  0   0    0    0    0    1     0     0  \n",
              "4  0  0  1   0    0    1    0    0     0     0  \n",
              "\n",
              "[5 rows x 27 columns]"
            ],
            "text/html": [
              "\n",
              "  <div id=\"df-50b5452c-89ec-4a3e-83fc-20ea1b3fb705\">\n",
              "    <div class=\"colab-df-container\">\n",
              "      <div>\n",
              "<style scoped>\n",
              "    .dataframe tbody tr th:only-of-type {\n",
              "        vertical-align: middle;\n",
              "    }\n",
              "\n",
              "    .dataframe tbody tr th {\n",
              "        vertical-align: top;\n",
              "    }\n",
              "\n",
              "    .dataframe thead th {\n",
              "        text-align: right;\n",
              "    }\n",
              "</style>\n",
              "<table border=\"1\" class=\"dataframe\">\n",
              "  <thead>\n",
              "    <tr style=\"text-align: right;\">\n",
              "      <th></th>\n",
              "      <th>carat</th>\n",
              "      <th>cut</th>\n",
              "      <th>color</th>\n",
              "      <th>clarity</th>\n",
              "      <th>depth</th>\n",
              "      <th>table</th>\n",
              "      <th>price</th>\n",
              "      <th>x</th>\n",
              "      <th>y</th>\n",
              "      <th>z</th>\n",
              "      <th>...</th>\n",
              "      <th>H</th>\n",
              "      <th>I</th>\n",
              "      <th>J</th>\n",
              "      <th>IF</th>\n",
              "      <th>SI1</th>\n",
              "      <th>SI2</th>\n",
              "      <th>VS1</th>\n",
              "      <th>VS2</th>\n",
              "      <th>VVS1</th>\n",
              "      <th>VVS2</th>\n",
              "    </tr>\n",
              "  </thead>\n",
              "  <tbody>\n",
              "    <tr>\n",
              "      <th>0</th>\n",
              "      <td>0.23</td>\n",
              "      <td>Ideal</td>\n",
              "      <td>E</td>\n",
              "      <td>SI2</td>\n",
              "      <td>61.5</td>\n",
              "      <td>55.0</td>\n",
              "      <td>326</td>\n",
              "      <td>3.95</td>\n",
              "      <td>3.98</td>\n",
              "      <td>2.43</td>\n",
              "      <td>...</td>\n",
              "      <td>0</td>\n",
              "      <td>0</td>\n",
              "      <td>0</td>\n",
              "      <td>0</td>\n",
              "      <td>0</td>\n",
              "      <td>1</td>\n",
              "      <td>0</td>\n",
              "      <td>0</td>\n",
              "      <td>0</td>\n",
              "      <td>0</td>\n",
              "    </tr>\n",
              "    <tr>\n",
              "      <th>1</th>\n",
              "      <td>0.21</td>\n",
              "      <td>Premium</td>\n",
              "      <td>E</td>\n",
              "      <td>SI1</td>\n",
              "      <td>59.8</td>\n",
              "      <td>61.0</td>\n",
              "      <td>326</td>\n",
              "      <td>3.89</td>\n",
              "      <td>3.84</td>\n",
              "      <td>2.31</td>\n",
              "      <td>...</td>\n",
              "      <td>0</td>\n",
              "      <td>0</td>\n",
              "      <td>0</td>\n",
              "      <td>0</td>\n",
              "      <td>1</td>\n",
              "      <td>0</td>\n",
              "      <td>0</td>\n",
              "      <td>0</td>\n",
              "      <td>0</td>\n",
              "      <td>0</td>\n",
              "    </tr>\n",
              "    <tr>\n",
              "      <th>2</th>\n",
              "      <td>0.23</td>\n",
              "      <td>Good</td>\n",
              "      <td>E</td>\n",
              "      <td>VS1</td>\n",
              "      <td>56.9</td>\n",
              "      <td>65.0</td>\n",
              "      <td>327</td>\n",
              "      <td>4.05</td>\n",
              "      <td>4.07</td>\n",
              "      <td>2.31</td>\n",
              "      <td>...</td>\n",
              "      <td>0</td>\n",
              "      <td>0</td>\n",
              "      <td>0</td>\n",
              "      <td>0</td>\n",
              "      <td>0</td>\n",
              "      <td>0</td>\n",
              "      <td>1</td>\n",
              "      <td>0</td>\n",
              "      <td>0</td>\n",
              "      <td>0</td>\n",
              "    </tr>\n",
              "    <tr>\n",
              "      <th>3</th>\n",
              "      <td>0.29</td>\n",
              "      <td>Premium</td>\n",
              "      <td>I</td>\n",
              "      <td>VS2</td>\n",
              "      <td>62.4</td>\n",
              "      <td>58.0</td>\n",
              "      <td>334</td>\n",
              "      <td>4.20</td>\n",
              "      <td>4.23</td>\n",
              "      <td>2.63</td>\n",
              "      <td>...</td>\n",
              "      <td>0</td>\n",
              "      <td>1</td>\n",
              "      <td>0</td>\n",
              "      <td>0</td>\n",
              "      <td>0</td>\n",
              "      <td>0</td>\n",
              "      <td>0</td>\n",
              "      <td>1</td>\n",
              "      <td>0</td>\n",
              "      <td>0</td>\n",
              "    </tr>\n",
              "    <tr>\n",
              "      <th>4</th>\n",
              "      <td>0.31</td>\n",
              "      <td>Good</td>\n",
              "      <td>J</td>\n",
              "      <td>SI2</td>\n",
              "      <td>63.3</td>\n",
              "      <td>58.0</td>\n",
              "      <td>335</td>\n",
              "      <td>4.34</td>\n",
              "      <td>4.35</td>\n",
              "      <td>2.75</td>\n",
              "      <td>...</td>\n",
              "      <td>0</td>\n",
              "      <td>0</td>\n",
              "      <td>1</td>\n",
              "      <td>0</td>\n",
              "      <td>0</td>\n",
              "      <td>1</td>\n",
              "      <td>0</td>\n",
              "      <td>0</td>\n",
              "      <td>0</td>\n",
              "      <td>0</td>\n",
              "    </tr>\n",
              "  </tbody>\n",
              "</table>\n",
              "<p>5 rows × 27 columns</p>\n",
              "</div>\n",
              "      <button class=\"colab-df-convert\" onclick=\"convertToInteractive('df-50b5452c-89ec-4a3e-83fc-20ea1b3fb705')\"\n",
              "              title=\"Convert this dataframe to an interactive table.\"\n",
              "              style=\"display:none;\">\n",
              "        \n",
              "  <svg xmlns=\"http://www.w3.org/2000/svg\" height=\"24px\"viewBox=\"0 0 24 24\"\n",
              "       width=\"24px\">\n",
              "    <path d=\"M0 0h24v24H0V0z\" fill=\"none\"/>\n",
              "    <path d=\"M18.56 5.44l.94 2.06.94-2.06 2.06-.94-2.06-.94-.94-2.06-.94 2.06-2.06.94zm-11 1L8.5 8.5l.94-2.06 2.06-.94-2.06-.94L8.5 2.5l-.94 2.06-2.06.94zm10 10l.94 2.06.94-2.06 2.06-.94-2.06-.94-.94-2.06-.94 2.06-2.06.94z\"/><path d=\"M17.41 7.96l-1.37-1.37c-.4-.4-.92-.59-1.43-.59-.52 0-1.04.2-1.43.59L10.3 9.45l-7.72 7.72c-.78.78-.78 2.05 0 2.83L4 21.41c.39.39.9.59 1.41.59.51 0 1.02-.2 1.41-.59l7.78-7.78 2.81-2.81c.8-.78.8-2.07 0-2.86zM5.41 20L4 18.59l7.72-7.72 1.47 1.35L5.41 20z\"/>\n",
              "  </svg>\n",
              "      </button>\n",
              "      \n",
              "  <style>\n",
              "    .colab-df-container {\n",
              "      display:flex;\n",
              "      flex-wrap:wrap;\n",
              "      gap: 12px;\n",
              "    }\n",
              "\n",
              "    .colab-df-convert {\n",
              "      background-color: #E8F0FE;\n",
              "      border: none;\n",
              "      border-radius: 50%;\n",
              "      cursor: pointer;\n",
              "      display: none;\n",
              "      fill: #1967D2;\n",
              "      height: 32px;\n",
              "      padding: 0 0 0 0;\n",
              "      width: 32px;\n",
              "    }\n",
              "\n",
              "    .colab-df-convert:hover {\n",
              "      background-color: #E2EBFA;\n",
              "      box-shadow: 0px 1px 2px rgba(60, 64, 67, 0.3), 0px 1px 3px 1px rgba(60, 64, 67, 0.15);\n",
              "      fill: #174EA6;\n",
              "    }\n",
              "\n",
              "    [theme=dark] .colab-df-convert {\n",
              "      background-color: #3B4455;\n",
              "      fill: #D2E3FC;\n",
              "    }\n",
              "\n",
              "    [theme=dark] .colab-df-convert:hover {\n",
              "      background-color: #434B5C;\n",
              "      box-shadow: 0px 1px 3px 1px rgba(0, 0, 0, 0.15);\n",
              "      filter: drop-shadow(0px 1px 2px rgba(0, 0, 0, 0.3));\n",
              "      fill: #FFFFFF;\n",
              "    }\n",
              "  </style>\n",
              "\n",
              "      <script>\n",
              "        const buttonEl =\n",
              "          document.querySelector('#df-50b5452c-89ec-4a3e-83fc-20ea1b3fb705 button.colab-df-convert');\n",
              "        buttonEl.style.display =\n",
              "          google.colab.kernel.accessAllowed ? 'block' : 'none';\n",
              "\n",
              "        async function convertToInteractive(key) {\n",
              "          const element = document.querySelector('#df-50b5452c-89ec-4a3e-83fc-20ea1b3fb705');\n",
              "          const dataTable =\n",
              "            await google.colab.kernel.invokeFunction('convertToInteractive',\n",
              "                                                     [key], {});\n",
              "          if (!dataTable) return;\n",
              "\n",
              "          const docLinkHtml = 'Like what you see? Visit the ' +\n",
              "            '<a target=\"_blank\" href=https://colab.research.google.com/notebooks/data_table.ipynb>data table notebook</a>'\n",
              "            + ' to learn more about interactive tables.';\n",
              "          element.innerHTML = '';\n",
              "          dataTable['output_type'] = 'display_data';\n",
              "          await google.colab.output.renderOutput(dataTable, element);\n",
              "          const docLink = document.createElement('div');\n",
              "          docLink.innerHTML = docLinkHtml;\n",
              "          element.appendChild(docLink);\n",
              "        }\n",
              "      </script>\n",
              "    </div>\n",
              "  </div>\n",
              "  "
            ]
          },
          "metadata": {},
          "execution_count": 67
        }
      ]
    },
    {
      "cell_type": "code",
      "source": [
        "#Drop Category Columns\n",
        "df = df.drop(['clarity', 'cut', 'color'],axis=1)"
      ],
      "metadata": {
        "id": "eAfNjrbdcPsE"
      },
      "execution_count": 8,
      "outputs": []
    },
    {
      "cell_type": "code",
      "source": [
        "df.columns"
      ],
      "metadata": {
        "colab": {
          "base_uri": "https://localhost:8080/"
        },
        "id": "GpgO7ukTcbqk",
        "outputId": "dab80dd6-6700-4f63-bb58-01996f014237"
      },
      "execution_count": 29,
      "outputs": [
        {
          "output_type": "execute_result",
          "data": {
            "text/plain": [
              "Index(['Unnamed: 0', 'clarity', 'depth', 'table', 'price', 'x', 'y', 'z',\n",
              "       'Good', 'Ideal', 'Premium', 'Very Good', 'E', 'F', 'G', 'H', 'I', 'J',\n",
              "       'IF', 'SI1', 'SI2', 'VS1', 'VS2', 'VVS1', 'VVS2'],\n",
              "      dtype='object')"
            ]
          },
          "metadata": {},
          "execution_count": 29
        }
      ]
    },
    {
      "cell_type": "code",
      "source": [
        "df.head()"
      ],
      "metadata": {
        "colab": {
          "base_uri": "https://localhost:8080/",
          "height": 236
        },
        "id": "cTx_rAWJcqR2",
        "outputId": "864e7b40-4b0c-4d68-9515-9de93596f79b"
      },
      "execution_count": 10,
      "outputs": [
        {
          "output_type": "execute_result",
          "data": {
            "text/plain": [
              "   carat  depth  table  price     x     y     z  Good  Ideal  Premium  ...  H  \\\n",
              "0   0.23   61.5   55.0    326  3.95  3.98  2.43     0      1        0  ...  0   \n",
              "1   0.21   59.8   61.0    326  3.89  3.84  2.31     0      0        1  ...  0   \n",
              "2   0.23   56.9   65.0    327  4.05  4.07  2.31     1      0        0  ...  0   \n",
              "3   0.29   62.4   58.0    334  4.20  4.23  2.63     0      0        1  ...  0   \n",
              "4   0.31   63.3   58.0    335  4.34  4.35  2.75     1      0        0  ...  0   \n",
              "\n",
              "   I  J  IF  SI1  SI2  VS1  VS2  VVS1  VVS2  \n",
              "0  0  0   0    0    1    0    0     0     0  \n",
              "1  0  0   0    1    0    0    0     0     0  \n",
              "2  0  0   0    0    0    1    0     0     0  \n",
              "3  1  0   0    0    0    0    1     0     0  \n",
              "4  0  1   0    0    1    0    0     0     0  \n",
              "\n",
              "[5 rows x 24 columns]"
            ],
            "text/html": [
              "\n",
              "  <div id=\"df-9778ffbd-d34d-4e64-be21-6dc509462b07\">\n",
              "    <div class=\"colab-df-container\">\n",
              "      <div>\n",
              "<style scoped>\n",
              "    .dataframe tbody tr th:only-of-type {\n",
              "        vertical-align: middle;\n",
              "    }\n",
              "\n",
              "    .dataframe tbody tr th {\n",
              "        vertical-align: top;\n",
              "    }\n",
              "\n",
              "    .dataframe thead th {\n",
              "        text-align: right;\n",
              "    }\n",
              "</style>\n",
              "<table border=\"1\" class=\"dataframe\">\n",
              "  <thead>\n",
              "    <tr style=\"text-align: right;\">\n",
              "      <th></th>\n",
              "      <th>carat</th>\n",
              "      <th>depth</th>\n",
              "      <th>table</th>\n",
              "      <th>price</th>\n",
              "      <th>x</th>\n",
              "      <th>y</th>\n",
              "      <th>z</th>\n",
              "      <th>Good</th>\n",
              "      <th>Ideal</th>\n",
              "      <th>Premium</th>\n",
              "      <th>...</th>\n",
              "      <th>H</th>\n",
              "      <th>I</th>\n",
              "      <th>J</th>\n",
              "      <th>IF</th>\n",
              "      <th>SI1</th>\n",
              "      <th>SI2</th>\n",
              "      <th>VS1</th>\n",
              "      <th>VS2</th>\n",
              "      <th>VVS1</th>\n",
              "      <th>VVS2</th>\n",
              "    </tr>\n",
              "  </thead>\n",
              "  <tbody>\n",
              "    <tr>\n",
              "      <th>0</th>\n",
              "      <td>0.23</td>\n",
              "      <td>61.5</td>\n",
              "      <td>55.0</td>\n",
              "      <td>326</td>\n",
              "      <td>3.95</td>\n",
              "      <td>3.98</td>\n",
              "      <td>2.43</td>\n",
              "      <td>0</td>\n",
              "      <td>1</td>\n",
              "      <td>0</td>\n",
              "      <td>...</td>\n",
              "      <td>0</td>\n",
              "      <td>0</td>\n",
              "      <td>0</td>\n",
              "      <td>0</td>\n",
              "      <td>0</td>\n",
              "      <td>1</td>\n",
              "      <td>0</td>\n",
              "      <td>0</td>\n",
              "      <td>0</td>\n",
              "      <td>0</td>\n",
              "    </tr>\n",
              "    <tr>\n",
              "      <th>1</th>\n",
              "      <td>0.21</td>\n",
              "      <td>59.8</td>\n",
              "      <td>61.0</td>\n",
              "      <td>326</td>\n",
              "      <td>3.89</td>\n",
              "      <td>3.84</td>\n",
              "      <td>2.31</td>\n",
              "      <td>0</td>\n",
              "      <td>0</td>\n",
              "      <td>1</td>\n",
              "      <td>...</td>\n",
              "      <td>0</td>\n",
              "      <td>0</td>\n",
              "      <td>0</td>\n",
              "      <td>0</td>\n",
              "      <td>1</td>\n",
              "      <td>0</td>\n",
              "      <td>0</td>\n",
              "      <td>0</td>\n",
              "      <td>0</td>\n",
              "      <td>0</td>\n",
              "    </tr>\n",
              "    <tr>\n",
              "      <th>2</th>\n",
              "      <td>0.23</td>\n",
              "      <td>56.9</td>\n",
              "      <td>65.0</td>\n",
              "      <td>327</td>\n",
              "      <td>4.05</td>\n",
              "      <td>4.07</td>\n",
              "      <td>2.31</td>\n",
              "      <td>1</td>\n",
              "      <td>0</td>\n",
              "      <td>0</td>\n",
              "      <td>...</td>\n",
              "      <td>0</td>\n",
              "      <td>0</td>\n",
              "      <td>0</td>\n",
              "      <td>0</td>\n",
              "      <td>0</td>\n",
              "      <td>0</td>\n",
              "      <td>1</td>\n",
              "      <td>0</td>\n",
              "      <td>0</td>\n",
              "      <td>0</td>\n",
              "    </tr>\n",
              "    <tr>\n",
              "      <th>3</th>\n",
              "      <td>0.29</td>\n",
              "      <td>62.4</td>\n",
              "      <td>58.0</td>\n",
              "      <td>334</td>\n",
              "      <td>4.20</td>\n",
              "      <td>4.23</td>\n",
              "      <td>2.63</td>\n",
              "      <td>0</td>\n",
              "      <td>0</td>\n",
              "      <td>1</td>\n",
              "      <td>...</td>\n",
              "      <td>0</td>\n",
              "      <td>1</td>\n",
              "      <td>0</td>\n",
              "      <td>0</td>\n",
              "      <td>0</td>\n",
              "      <td>0</td>\n",
              "      <td>0</td>\n",
              "      <td>1</td>\n",
              "      <td>0</td>\n",
              "      <td>0</td>\n",
              "    </tr>\n",
              "    <tr>\n",
              "      <th>4</th>\n",
              "      <td>0.31</td>\n",
              "      <td>63.3</td>\n",
              "      <td>58.0</td>\n",
              "      <td>335</td>\n",
              "      <td>4.34</td>\n",
              "      <td>4.35</td>\n",
              "      <td>2.75</td>\n",
              "      <td>1</td>\n",
              "      <td>0</td>\n",
              "      <td>0</td>\n",
              "      <td>...</td>\n",
              "      <td>0</td>\n",
              "      <td>0</td>\n",
              "      <td>1</td>\n",
              "      <td>0</td>\n",
              "      <td>0</td>\n",
              "      <td>1</td>\n",
              "      <td>0</td>\n",
              "      <td>0</td>\n",
              "      <td>0</td>\n",
              "      <td>0</td>\n",
              "    </tr>\n",
              "  </tbody>\n",
              "</table>\n",
              "<p>5 rows × 24 columns</p>\n",
              "</div>\n",
              "      <button class=\"colab-df-convert\" onclick=\"convertToInteractive('df-9778ffbd-d34d-4e64-be21-6dc509462b07')\"\n",
              "              title=\"Convert this dataframe to an interactive table.\"\n",
              "              style=\"display:none;\">\n",
              "        \n",
              "  <svg xmlns=\"http://www.w3.org/2000/svg\" height=\"24px\"viewBox=\"0 0 24 24\"\n",
              "       width=\"24px\">\n",
              "    <path d=\"M0 0h24v24H0V0z\" fill=\"none\"/>\n",
              "    <path d=\"M18.56 5.44l.94 2.06.94-2.06 2.06-.94-2.06-.94-.94-2.06-.94 2.06-2.06.94zm-11 1L8.5 8.5l.94-2.06 2.06-.94-2.06-.94L8.5 2.5l-.94 2.06-2.06.94zm10 10l.94 2.06.94-2.06 2.06-.94-2.06-.94-.94-2.06-.94 2.06-2.06.94z\"/><path d=\"M17.41 7.96l-1.37-1.37c-.4-.4-.92-.59-1.43-.59-.52 0-1.04.2-1.43.59L10.3 9.45l-7.72 7.72c-.78.78-.78 2.05 0 2.83L4 21.41c.39.39.9.59 1.41.59.51 0 1.02-.2 1.41-.59l7.78-7.78 2.81-2.81c.8-.78.8-2.07 0-2.86zM5.41 20L4 18.59l7.72-7.72 1.47 1.35L5.41 20z\"/>\n",
              "  </svg>\n",
              "      </button>\n",
              "      \n",
              "  <style>\n",
              "    .colab-df-container {\n",
              "      display:flex;\n",
              "      flex-wrap:wrap;\n",
              "      gap: 12px;\n",
              "    }\n",
              "\n",
              "    .colab-df-convert {\n",
              "      background-color: #E8F0FE;\n",
              "      border: none;\n",
              "      border-radius: 50%;\n",
              "      cursor: pointer;\n",
              "      display: none;\n",
              "      fill: #1967D2;\n",
              "      height: 32px;\n",
              "      padding: 0 0 0 0;\n",
              "      width: 32px;\n",
              "    }\n",
              "\n",
              "    .colab-df-convert:hover {\n",
              "      background-color: #E2EBFA;\n",
              "      box-shadow: 0px 1px 2px rgba(60, 64, 67, 0.3), 0px 1px 3px 1px rgba(60, 64, 67, 0.15);\n",
              "      fill: #174EA6;\n",
              "    }\n",
              "\n",
              "    [theme=dark] .colab-df-convert {\n",
              "      background-color: #3B4455;\n",
              "      fill: #D2E3FC;\n",
              "    }\n",
              "\n",
              "    [theme=dark] .colab-df-convert:hover {\n",
              "      background-color: #434B5C;\n",
              "      box-shadow: 0px 1px 3px 1px rgba(0, 0, 0, 0.15);\n",
              "      filter: drop-shadow(0px 1px 2px rgba(0, 0, 0, 0.3));\n",
              "      fill: #FFFFFF;\n",
              "    }\n",
              "  </style>\n",
              "\n",
              "      <script>\n",
              "        const buttonEl =\n",
              "          document.querySelector('#df-9778ffbd-d34d-4e64-be21-6dc509462b07 button.colab-df-convert');\n",
              "        buttonEl.style.display =\n",
              "          google.colab.kernel.accessAllowed ? 'block' : 'none';\n",
              "\n",
              "        async function convertToInteractive(key) {\n",
              "          const element = document.querySelector('#df-9778ffbd-d34d-4e64-be21-6dc509462b07');\n",
              "          const dataTable =\n",
              "            await google.colab.kernel.invokeFunction('convertToInteractive',\n",
              "                                                     [key], {});\n",
              "          if (!dataTable) return;\n",
              "\n",
              "          const docLinkHtml = 'Like what you see? Visit the ' +\n",
              "            '<a target=\"_blank\" href=https://colab.research.google.com/notebooks/data_table.ipynb>data table notebook</a>'\n",
              "            + ' to learn more about interactive tables.';\n",
              "          element.innerHTML = '';\n",
              "          dataTable['output_type'] = 'display_data';\n",
              "          await google.colab.output.renderOutput(dataTable, element);\n",
              "          const docLink = document.createElement('div');\n",
              "          docLink.innerHTML = docLinkHtml;\n",
              "          element.appendChild(docLink);\n",
              "        }\n",
              "      </script>\n",
              "    </div>\n",
              "  </div>\n",
              "  "
            ]
          },
          "metadata": {},
          "execution_count": 10
        }
      ]
    },
    {
      "cell_type": "markdown",
      "source": [
        "# Normalizing the Data"
      ],
      "metadata": {
        "id": "mhwhnp2a0h4X"
      }
    },
    {
      "cell_type": "code",
      "source": [
        "#Importing train_test_split from sklearn\n",
        "from sklearn.model_selection import train_test_split\n",
        "\n",
        "#Creating X and y variables for features and labels\n",
        "X = df.drop('price',axis = 1).values\n",
        "y = df['price'].values"
      ],
      "metadata": {
        "id": "xwi8Erczcrwf"
      },
      "execution_count": 12,
      "outputs": []
    },
    {
      "cell_type": "code",
      "source": [
        "#Split the data into a training and test set.\n",
        "X_train, X_test, y_train, y_test = train_test_split(X, y, test_size= 0.20, random_state = 101)"
      ],
      "metadata": {
        "id": "heIArTDpc_e0"
      },
      "execution_count": 13,
      "outputs": []
    },
    {
      "cell_type": "code",
      "source": [
        "#Normalizing the data\n",
        "from sklearn.preprocessing import MinMaxScaler\n",
        "scaler = MinMaxScaler()\n",
        "X_train = scaler.fit_transform(X_train)\n",
        "X_test = scaler.transform(X_test)"
      ],
      "metadata": {
        "id": "vV-192rJdCIo"
      },
      "execution_count": 14,
      "outputs": []
    },
    {
      "cell_type": "markdown",
      "source": [
        "# Creating and Training the Model"
      ],
      "metadata": {
        "id": "dktd3teM0npU"
      }
    },
    {
      "cell_type": "code",
      "source": [
        "#Imports from tensorflow\n",
        "import tensorflow as tf\n",
        "from tensorflow.keras.models import Sequential\n",
        "from tensorflow.keras.layers import Dense, Dropout\n",
        "from tensorflow.keras.callbacks import EarlyStopping\n",
        "\n",
        "early_stop = EarlyStopping(monitor='val_loss', mode= 'min', patience = 20)"
      ],
      "metadata": {
        "id": "s8m93R5jdEUN"
      },
      "execution_count": 16,
      "outputs": []
    },
    {
      "cell_type": "code",
      "source": [
        "model = Sequential()"
      ],
      "metadata": {
        "id": "BJsdAl6VdGpN"
      },
      "execution_count": 21,
      "outputs": []
    },
    {
      "cell_type": "code",
      "source": [
        "df.info()"
      ],
      "metadata": {
        "colab": {
          "base_uri": "https://localhost:8080/"
        },
        "id": "meDgd5B0dLRq",
        "outputId": "ce0323d1-20e0-42ce-d41c-2adffad78c3d"
      },
      "execution_count": 18,
      "outputs": [
        {
          "output_type": "stream",
          "name": "stdout",
          "text": [
            "<class 'pandas.core.frame.DataFrame'>\n",
            "RangeIndex: 53943 entries, 0 to 53942\n",
            "Data columns (total 24 columns):\n",
            " #   Column     Non-Null Count  Dtype  \n",
            "---  ------     --------------  -----  \n",
            " 0   carat      53943 non-null  float64\n",
            " 1   depth      53943 non-null  float64\n",
            " 2   table      53943 non-null  float64\n",
            " 3   price      53943 non-null  int64  \n",
            " 4   x          53943 non-null  float64\n",
            " 5   y          53943 non-null  float64\n",
            " 6   z          53943 non-null  float64\n",
            " 7   Good       53943 non-null  uint8  \n",
            " 8   Ideal      53943 non-null  uint8  \n",
            " 9   Premium    53943 non-null  uint8  \n",
            " 10  Very Good  53943 non-null  uint8  \n",
            " 11  E          53943 non-null  uint8  \n",
            " 12  F          53943 non-null  uint8  \n",
            " 13  G          53943 non-null  uint8  \n",
            " 14  H          53943 non-null  uint8  \n",
            " 15  I          53943 non-null  uint8  \n",
            " 16  J          53943 non-null  uint8  \n",
            " 17  IF         53943 non-null  uint8  \n",
            " 18  SI1        53943 non-null  uint8  \n",
            " 19  SI2        53943 non-null  uint8  \n",
            " 20  VS1        53943 non-null  uint8  \n",
            " 21  VS2        53943 non-null  uint8  \n",
            " 22  VVS1       53943 non-null  uint8  \n",
            " 23  VVS2       53943 non-null  uint8  \n",
            "dtypes: float64(6), int64(1), uint8(17)\n",
            "memory usage: 3.8 MB\n"
          ]
        }
      ]
    },
    {
      "cell_type": "code",
      "source": [
        "model.add(Dense(23, activation='relu'))\n",
        "model.add(Dropout(0.2))\n",
        "\n",
        "model.add(Dense(23, activation='relu'))\n",
        "model.add(Dropout(0.2))\n",
        "\n",
        "model.add(Dense(12, activation='relu'))\n",
        "model.add(Dropout(0.2))\n",
        "\n",
        "model.add(Dense(12, activation='relu'))\n",
        "model.add(Dropout(0.2))\n",
        "\n",
        "model.add(Dense(6, activation='relu'))\n",
        "model.add(Dropout(0.2))\n",
        "\n",
        "model.add(Dense(6, activation='relu'))\n",
        "model.add(Dropout(0.2))\n",
        "\n",
        "model.add(Dense(1))\n",
        "\n",
        "model.compile(optimizer='adam', loss='mse') #Loss is mean squared error"
      ],
      "metadata": {
        "id": "s5FSrRjEdMg_"
      },
      "execution_count": 22,
      "outputs": []
    },
    {
      "cell_type": "code",
      "source": [
        "#Fitting the model\n",
        "model.fit(x=X_train, y=y_train, epochs = 500, validation_data =(X_test,y_test), batch_size=128, callbacks=[early_stop])"
      ],
      "metadata": {
        "colab": {
          "base_uri": "https://localhost:8080/"
        },
        "id": "78hM8RKAdULU",
        "outputId": "655332d5-2e0e-43eb-fb9a-d17d0bfd5f7d"
      },
      "execution_count": 23,
      "outputs": [
        {
          "output_type": "stream",
          "name": "stdout",
          "text": [
            "Epoch 1/500\n",
            "338/338 [==============================] - 2s 4ms/step - loss: 23459216.0000 - val_loss: 13613487.0000\n",
            "Epoch 2/500\n",
            "338/338 [==============================] - 1s 3ms/step - loss: 14538486.0000 - val_loss: 8696695.0000\n",
            "Epoch 3/500\n",
            "338/338 [==============================] - 1s 3ms/step - loss: 8238400.0000 - val_loss: 2217208.0000\n",
            "Epoch 4/500\n",
            "338/338 [==============================] - 1s 3ms/step - loss: 5818482.5000 - val_loss: 1510248.6250\n",
            "Epoch 5/500\n",
            "338/338 [==============================] - 1s 3ms/step - loss: 5493190.5000 - val_loss: 1589871.7500\n",
            "Epoch 6/500\n",
            "338/338 [==============================] - 1s 3ms/step - loss: 5256809.5000 - val_loss: 1572802.6250\n",
            "Epoch 7/500\n",
            "338/338 [==============================] - 1s 3ms/step - loss: 4999414.5000 - val_loss: 1348485.3750\n",
            "Epoch 8/500\n",
            "338/338 [==============================] - 1s 3ms/step - loss: 4986272.0000 - val_loss: 1498871.6250\n",
            "Epoch 9/500\n",
            "338/338 [==============================] - 1s 3ms/step - loss: 4889397.0000 - val_loss: 1039705.1875\n",
            "Epoch 10/500\n",
            "338/338 [==============================] - 1s 3ms/step - loss: 4931809.0000 - val_loss: 1410710.6250\n",
            "Epoch 11/500\n",
            "338/338 [==============================] - 1s 3ms/step - loss: 4942216.5000 - val_loss: 1486448.0000\n",
            "Epoch 12/500\n",
            "338/338 [==============================] - 1s 3ms/step - loss: 4875865.5000 - val_loss: 1321540.5000\n",
            "Epoch 13/500\n",
            "338/338 [==============================] - 1s 3ms/step - loss: 4709290.0000 - val_loss: 1236798.0000\n",
            "Epoch 14/500\n",
            "338/338 [==============================] - 1s 3ms/step - loss: 4937817.5000 - val_loss: 1015547.8750\n",
            "Epoch 15/500\n",
            "338/338 [==============================] - 1s 3ms/step - loss: 4971155.0000 - val_loss: 1387746.8750\n",
            "Epoch 16/500\n",
            "338/338 [==============================] - 1s 3ms/step - loss: 4874370.0000 - val_loss: 1130307.7500\n",
            "Epoch 17/500\n",
            "338/338 [==============================] - 1s 3ms/step - loss: 4823004.0000 - val_loss: 1261491.7500\n",
            "Epoch 18/500\n",
            "338/338 [==============================] - 1s 4ms/step - loss: 4884820.0000 - val_loss: 925819.8750\n",
            "Epoch 19/500\n",
            "338/338 [==============================] - 1s 4ms/step - loss: 4677324.5000 - val_loss: 1426033.3750\n",
            "Epoch 20/500\n",
            "338/338 [==============================] - 1s 3ms/step - loss: 4707878.5000 - val_loss: 1292001.8750\n",
            "Epoch 21/500\n",
            "338/338 [==============================] - 1s 3ms/step - loss: 4678210.0000 - val_loss: 1098272.6250\n",
            "Epoch 22/500\n",
            "338/338 [==============================] - 1s 4ms/step - loss: 4697889.5000 - val_loss: 899995.3750\n",
            "Epoch 23/500\n",
            "338/338 [==============================] - 1s 3ms/step - loss: 4654970.5000 - val_loss: 1019747.0000\n",
            "Epoch 24/500\n",
            "338/338 [==============================] - 1s 4ms/step - loss: 4652913.0000 - val_loss: 1174463.8750\n",
            "Epoch 25/500\n",
            "338/338 [==============================] - 1s 3ms/step - loss: 4545448.0000 - val_loss: 986835.6250\n",
            "Epoch 26/500\n",
            "338/338 [==============================] - 1s 4ms/step - loss: 4649124.0000 - val_loss: 1276533.0000\n",
            "Epoch 27/500\n",
            "338/338 [==============================] - 1s 4ms/step - loss: 4695999.0000 - val_loss: 1283775.2500\n",
            "Epoch 28/500\n",
            "338/338 [==============================] - 1s 4ms/step - loss: 4687145.5000 - val_loss: 1192609.8750\n",
            "Epoch 29/500\n",
            "338/338 [==============================] - 1s 4ms/step - loss: 4738474.0000 - val_loss: 1139467.3750\n",
            "Epoch 30/500\n",
            "338/338 [==============================] - 1s 4ms/step - loss: 4653901.0000 - val_loss: 1126933.6250\n",
            "Epoch 31/500\n",
            "338/338 [==============================] - 1s 4ms/step - loss: 4577029.5000 - val_loss: 983650.8750\n",
            "Epoch 32/500\n",
            "338/338 [==============================] - 1s 3ms/step - loss: 4682088.0000 - val_loss: 1150672.8750\n",
            "Epoch 33/500\n",
            "338/338 [==============================] - 1s 3ms/step - loss: 4489444.0000 - val_loss: 1341678.8750\n",
            "Epoch 34/500\n",
            "338/338 [==============================] - 1s 3ms/step - loss: 4710972.0000 - val_loss: 1522405.5000\n",
            "Epoch 35/500\n",
            "338/338 [==============================] - 1s 3ms/step - loss: 4600258.0000 - val_loss: 918570.8125\n",
            "Epoch 36/500\n",
            "338/338 [==============================] - 1s 3ms/step - loss: 4568733.5000 - val_loss: 1095237.0000\n",
            "Epoch 37/500\n",
            "338/338 [==============================] - 1s 3ms/step - loss: 4551405.5000 - val_loss: 910292.2500\n",
            "Epoch 38/500\n",
            "338/338 [==============================] - 1s 3ms/step - loss: 4615542.5000 - val_loss: 1704006.3750\n",
            "Epoch 39/500\n",
            "338/338 [==============================] - 1s 3ms/step - loss: 4535821.0000 - val_loss: 1002257.8750\n",
            "Epoch 40/500\n",
            "338/338 [==============================] - 1s 4ms/step - loss: 4606621.5000 - val_loss: 1316873.6250\n",
            "Epoch 41/500\n",
            "338/338 [==============================] - 1s 3ms/step - loss: 4506183.0000 - val_loss: 878075.5000\n",
            "Epoch 42/500\n",
            "338/338 [==============================] - 1s 3ms/step - loss: 4527851.0000 - val_loss: 874047.1875\n",
            "Epoch 43/500\n",
            "338/338 [==============================] - 1s 4ms/step - loss: 4538759.5000 - val_loss: 996096.8125\n",
            "Epoch 44/500\n",
            "338/338 [==============================] - 1s 3ms/step - loss: 4465909.0000 - val_loss: 927654.6875\n",
            "Epoch 45/500\n",
            "338/338 [==============================] - 1s 3ms/step - loss: 4487361.5000 - val_loss: 835175.6250\n",
            "Epoch 46/500\n",
            "338/338 [==============================] - 1s 4ms/step - loss: 4627025.0000 - val_loss: 1314162.6250\n",
            "Epoch 47/500\n",
            "338/338 [==============================] - 1s 4ms/step - loss: 4540511.0000 - val_loss: 1626893.8750\n",
            "Epoch 48/500\n",
            "338/338 [==============================] - 1s 4ms/step - loss: 4562892.0000 - val_loss: 1235137.3750\n",
            "Epoch 49/500\n",
            "338/338 [==============================] - 1s 4ms/step - loss: 4375106.0000 - val_loss: 967742.7500\n",
            "Epoch 50/500\n",
            "338/338 [==============================] - 1s 4ms/step - loss: 4496563.5000 - val_loss: 930404.6250\n",
            "Epoch 51/500\n",
            "338/338 [==============================] - 1s 4ms/step - loss: 4616830.5000 - val_loss: 1081184.8750\n",
            "Epoch 52/500\n",
            "338/338 [==============================] - 1s 4ms/step - loss: 4531690.0000 - val_loss: 1026567.5625\n",
            "Epoch 53/500\n",
            "338/338 [==============================] - 1s 4ms/step - loss: 4424932.0000 - val_loss: 1274025.0000\n",
            "Epoch 54/500\n",
            "338/338 [==============================] - 1s 4ms/step - loss: 4474615.5000 - val_loss: 1122683.2500\n",
            "Epoch 55/500\n",
            "338/338 [==============================] - 2s 5ms/step - loss: 4463810.0000 - val_loss: 1043891.5625\n",
            "Epoch 56/500\n",
            "338/338 [==============================] - 1s 3ms/step - loss: 4484532.0000 - val_loss: 1056451.6250\n",
            "Epoch 57/500\n",
            "338/338 [==============================] - 1s 4ms/step - loss: 4422942.5000 - val_loss: 1290463.1250\n",
            "Epoch 58/500\n",
            "338/338 [==============================] - 1s 3ms/step - loss: 4361929.0000 - val_loss: 1303491.7500\n",
            "Epoch 59/500\n",
            "338/338 [==============================] - 1s 4ms/step - loss: 4436267.5000 - val_loss: 1097561.0000\n",
            "Epoch 60/500\n",
            "338/338 [==============================] - 1s 3ms/step - loss: 4343698.5000 - val_loss: 999282.7500\n",
            "Epoch 61/500\n",
            "338/338 [==============================] - 1s 4ms/step - loss: 4437344.0000 - val_loss: 1229407.6250\n",
            "Epoch 62/500\n",
            "338/338 [==============================] - 1s 4ms/step - loss: 4456452.0000 - val_loss: 1092834.5000\n",
            "Epoch 63/500\n",
            "338/338 [==============================] - 1s 4ms/step - loss: 4547483.5000 - val_loss: 991908.5000\n",
            "Epoch 64/500\n",
            "338/338 [==============================] - 1s 4ms/step - loss: 4335483.5000 - val_loss: 907976.5000\n",
            "Epoch 65/500\n",
            "338/338 [==============================] - 1s 3ms/step - loss: 4327838.0000 - val_loss: 876298.3750\n"
          ]
        },
        {
          "output_type": "execute_result",
          "data": {
            "text/plain": [
              "<keras.callbacks.History at 0x7fb5980ee3a0>"
            ]
          },
          "metadata": {},
          "execution_count": 23
        }
      ]
    },
    {
      "cell_type": "markdown",
      "source": [
        "# Model Performance Evaluation"
      ],
      "metadata": {
        "id": "UzdACt1j05iS"
      }
    },
    {
      "cell_type": "code",
      "source": [
        "losses = pd.DataFrame(model.history.history)"
      ],
      "metadata": {
        "id": "mYdUSC5odW5I"
      },
      "execution_count": 24,
      "outputs": []
    },
    {
      "cell_type": "code",
      "source": [
        "losses.plot() #Visualizing the model fitting"
      ],
      "metadata": {
        "colab": {
          "base_uri": "https://localhost:8080/",
          "height": 293
        },
        "id": "_h_dRYnAelkf",
        "outputId": "88f9ea64-b0bf-4565-a5fb-b688cf919c67"
      },
      "execution_count": 25,
      "outputs": [
        {
          "output_type": "execute_result",
          "data": {
            "text/plain": [
              "<matplotlib.axes._subplots.AxesSubplot at 0x7fb59a9869a0>"
            ]
          },
          "metadata": {},
          "execution_count": 25
        },
        {
          "output_type": "display_data",
          "data": {
            "text/plain": [
              "<Figure size 432x288 with 1 Axes>"
            ],
            "image/png": "[encoded data removed]"
          },
          "metadata": {
            "needs_background": "light"
          }
        }
      ]
    },
    {
      "cell_type": "code",
      "source": [
        "#Importing the metrics and making predictions\n",
        "from sklearn.metrics import mean_squared_error, mean_absolute_error, explained_variance_score\n",
        "predictions = model.predict(X_test)"
      ],
      "metadata": {
        "colab": {
          "base_uri": "https://localhost:8080/"
        },
        "id": "QVpLXFsBem9D",
        "outputId": "c11a0728-c041-485a-c180-c16137b7a910"
      },
      "execution_count": 26,
      "outputs": [
        {
          "output_type": "stream",
          "name": "stdout",
          "text": [
            "338/338 [==============================] - 1s 2ms/step\n"
          ]
        }
      ]
    },
    {
      "cell_type": "code",
      "source": [
        "#Outputing the results\n",
        "print('Root Mean Squared Error:', np.sqrt(mean_squared_error(y_test,predictions))) #Root Mean Squared Error\n",
        "print('\\n')\n",
        "print('Mean Absolute Error:', mean_absolute_error(y_test,predictions)) #Mean Absolute Error\n",
        "print('\\n')\n",
        "print('Explained Variance Score:', explained_variance_score(y_test,predictions)) #Explained Variance Score\n",
        "print('\\n')\n",
        "print('Average Diamond Price:', df['price'].mean())"
      ],
      "metadata": {
        "colab": {
          "base_uri": "https://localhost:8080/"
        },
        "id": "P0Cx_zLFfJ4-",
        "outputId": "9dff4daf-71aa-446e-e0e3-a6e58e573f5b"
      },
      "execution_count": 34,
      "outputs": [
        {
          "output_type": "stream",
          "name": "stdout",
          "text": [
            "Root Mean Squared Error: 936.1082417140516\n",
            "\n",
            "\n",
            "Mean Absolute Error: 575.8612347252011\n",
            "\n",
            "\n",
            "Explained Variance Score: 0.9484853995994538\n",
            "\n",
            "\n",
            "Average Diamond Price: 3932.734293606214\n"
          ]
        }
      ]
    },
    {
      "cell_type": "code",
      "source": [
        "#Plotting the prediction results against the perfect prediction line\n",
        "plt.figure(figsize=(10,8))\n",
        "plt.scatter(y_test,predictions)\n",
        "plt.plot(y_test,y_test,'orange')"
      ],
      "metadata": {
        "colab": {
          "base_uri": "https://localhost:8080/",
          "height": 500
        },
        "id": "5OFxVyo7fZWv",
        "outputId": "a19658cc-cb08-4125-ad1e-6d51335f549e"
      },
      "execution_count": 28,
      "outputs": [
        {
          "output_type": "execute_result",
          "data": {
            "text/plain": [
              "[<matplotlib.lines.Line2D at 0x7fb59a403220>]"
            ]
          },
          "metadata": {},
          "execution_count": 28
        },
        {
          "output_type": "display_data",
          "data": {
            "text/plain": [
              "<Figure size 720x576 with 1 Axes>"
            ],
            "image/png": "[encoded data removed]"
          },
          "metadata": {
            "needs_background": "light"
          }
        }
      ]
    },
    {
      "cell_type": "code",
      "source": [
        "#Selecting a Random Diamond from the Data Frame to Compare Against the Model\n",
        "import random\n",
        "random_ind = random.randint(0,len(df))\n",
        "\n",
        "\n",
        "random_diamond = df.drop('price',axis=1).iloc[random_ind]\n",
        "\n",
        "random_diamond = random_diamond.values.reshape(1,23)\n",
        "\n",
        "random_diamond = scaler.transform(random_diamond)"
      ],
      "metadata": {
        "id": "xCip1DoDfeSI"
      },
      "execution_count": 43,
      "outputs": []
    },
    {
      "cell_type": "code",
      "source": [
        "#Predicting the Diamond's Price and Comparing to the True Price\n",
        "print('Model predicted price:', *model.predict(random_diamond))\n",
        "print('\\n')\n",
        "print('Actual price:', df.iloc[random_ind]['price'])"
      ],
      "metadata": {
        "colab": {
          "base_uri": "https://localhost:8080/"
        },
        "id": "8uqrHd1ygR8V",
        "outputId": "88cfd879-3a96-4df2-b770-bbabb6de2c69"
      },
      "execution_count": 44,
      "outputs": [
        {
          "output_type": "stream",
          "name": "stdout",
          "text": [
            "1/1 [==============================] - 0s 20ms/step\n",
            "Model predicted price: [4477.944]\n",
            "\n",
            "\n",
            "Actual price: 4327.0\n"
          ]
        }
      ]
    },
    {
      "cell_type": "code",
      "source": [],
      "metadata": {
        "id": "onIj4GdcgnQb"
      },
      "execution_count": null,
      "outputs": []
    }
  ]
}